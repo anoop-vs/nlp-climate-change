{
 "cells": [
  {
   "cell_type": "code",
   "execution_count": 12,
   "id": "8070e618",
   "metadata": {},
   "outputs": [],
   "source": [
    "import json\n",
    "import os\n",
    "\n"
   ]
  },
  {
   "cell_type": "code",
   "execution_count": null,
   "id": "38b8f269",
   "metadata": {},
   "outputs": [],
   "source": []
  },
  {
   "cell_type": "code",
   "execution_count": 16,
   "id": "ba41b82b",
   "metadata": {},
   "outputs": [],
   "source": [
    "def split_json_dataset(input_file, output_dir, chunk_size):\n",
    "    with open(input_file) as f:\n",
    "        data = json.load(f)\n",
    "    chunks = [data[i:i+chunk_size] for i in range(0, len(data), chunk_size)]\n",
    "    \n",
    "    # create output directory if it does not exist\n",
    "    if not os.path.exists(output_dir):\n",
    "        os.makedirs(output_dir)\n",
    "    \n",
    "    for i, chunk in enumerate(chunks):\n",
    "        output_file = os.path.join(output_dir, f'chunk_{i}.json')\n",
    "        with open(output_file, 'w') as f:\n",
    "            json.dump(chunk, f, indent=4)\n"
   ]
  },
  {
   "cell_type": "code",
   "execution_count": 18,
   "id": "1a296b4d",
   "metadata": {},
   "outputs": [],
   "source": [
    "input_file = r\"C:\\Users\\subin\\Desktop\\chat-gpt-tweets2.json\"\n",
    "output_dir = r\"C:\\Users\\subin\\Desktop\\splitted_data\"\n",
    "chunk_size = 1500\n",
    "split_json_dataset(input_file, output_dir, chunk_size)"
   ]
  },
  {
   "cell_type": "code",
   "execution_count": null,
   "id": "58d8aa7a",
   "metadata": {},
   "outputs": [],
   "source": []
  }
 ],
 "metadata": {
  "kernelspec": {
   "display_name": "Python 3 (ipykernel)",
   "language": "python",
   "name": "python3"
  },
  "language_info": {
   "codemirror_mode": {
    "name": "ipython",
    "version": 3
   },
   "file_extension": ".py",
   "mimetype": "text/x-python",
   "name": "python",
   "nbconvert_exporter": "python",
   "pygments_lexer": "ipython3",
   "version": "3.9.13"
  }
 },
 "nbformat": 4,
 "nbformat_minor": 5
}
