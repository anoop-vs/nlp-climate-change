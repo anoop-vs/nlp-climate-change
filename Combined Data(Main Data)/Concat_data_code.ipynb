{
  "nbformat": 4,
  "nbformat_minor": 0,
  "metadata": {
    "colab": {
      "provenance": []
    },
    "kernelspec": {
      "name": "python3",
      "display_name": "Python 3"
    },
    "language_info": {
      "name": "python"
    }
  },
  "cells": [
    {
      "cell_type": "code",
      "execution_count": 1,
      "metadata": {
        "id": "c16w5y3EdF-6"
      },
      "outputs": [],
      "source": [
        "import pandas as pd"
      ]
    },
    {
      "cell_type": "code",
      "source": [
        "# Load the three CSV files into separate dataframes\n",
        "df1 = pd.read_csv('/content/chunk1_labelled data(partial).csv')\n",
        "df2 = pd.read_csv('/content/chunk2_labelled data.csv')\n",
        "df3 = pd.read_csv('/content/chunk3(partial)_labelled data.csv')"
      ],
      "metadata": {
        "id": "DmA-NE0cdPgV"
      },
      "execution_count": 2,
      "outputs": []
    },
    {
      "cell_type": "code",
      "source": [
        "# Concatenate the dataframes into one\n",
        "combined_df = pd.concat([df1, df2, df3], axis=0)"
      ],
      "metadata": {
        "id": "7o3LwCT7dW-0"
      },
      "execution_count": 3,
      "outputs": []
    },
    {
      "cell_type": "code",
      "source": [
        "# Write the combined dataframe to a new CSV file\n",
        "combined_df.to_csv('combined.csv', index=False)"
      ],
      "metadata": {
        "id": "OOVMJZyWdZBU"
      },
      "execution_count": 4,
      "outputs": []
    },
    {
      "cell_type": "code",
      "source": [],
      "metadata": {
        "id": "Ri64lQcdderF"
      },
      "execution_count": null,
      "outputs": []
    }
  ]
}